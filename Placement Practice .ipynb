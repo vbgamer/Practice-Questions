{
  "nbformat": 4,
  "nbformat_minor": 0,
  "metadata": {
    "colab": {
      "provenance": [],
      "authorship_tag": "ABX9TyOYcFSnNKliGhDbk4CfC9on",
      "include_colab_link": true
    },
    "kernelspec": {
      "name": "python3",
      "display_name": "Python 3"
    },
    "language_info": {
      "name": "python"
    }
  },
  "cells": [
    {
      "cell_type": "markdown",
      "metadata": {
        "id": "view-in-github",
        "colab_type": "text"
      },
      "source": [
        "<a href=\"https://colab.research.google.com/github/vbgamer/Practice-Questions/blob/main/Placement%20Practice%20.ipynb\" target=\"_parent\"><img src=\"https://colab.research.google.com/assets/colab-badge.svg\" alt=\"Open In Colab\"/></a>"
      ]
    },
    {
      "cell_type": "markdown",
      "source": [
        "# **DAY 1**"
      ],
      "metadata": {
        "id": "M7ZQyUARgbU_"
      }
    },
    {
      "cell_type": "markdown",
      "source": [
        "Given an array of integers, calculate the ratios of its elements that are positive, negative, and zero. Print the decimal value of each fraction on a new line with  places after the decimal.\n",
        "\n",
        "Print the ratios of positive, negative and zero values in the array. Each value should be printed on a separate line with  digits after the decimal. The function should not return a value."
      ],
      "metadata": {
        "id": "7-SJElu-73qj"
      }
    },
    {
      "cell_type": "code",
      "source": [
        "def plusMinus(arr):\n",
        "    positive = []\n",
        "    negative = []\n",
        "    zeros = []\n",
        "    for number in arr:\n",
        "        if number < 0:\n",
        "            negative.append(number)\n",
        "        elif number > 0:\n",
        "            positive.append(number)\n",
        "        else:\n",
        "            zeros.append(number)\n",
        "    print(\"{:.6f}\".format(len(positive)/n))\n",
        "    print(\"{:.6f}\".format(len(negative)/n))\n",
        "    print(\"{:.6f}\".format(len(zeros)/n))\n",
        "if __name__ == '__main__':\n",
        "    arr = list(map(int, input().rstrip().split(',')))\n",
        "    plusMinus(arr)"
      ],
      "metadata": {
        "id": "ugOx6j7L-rMH"
      },
      "execution_count": null,
      "outputs": []
    },
    {
      "cell_type": "markdown",
      "source": [
        "Given five positive integers, find the minimum and maximum values that can be calculated by summing exactly four of the five integers. Then print the respective minimum and maximum values as a single line of two space-separated long integers."
      ],
      "metadata": {
        "id": "nKIhsccM9v8Q"
      }
    },
    {
      "cell_type": "code",
      "source": [
        "def max_sum(arr):\n",
        "    arr.sort()\n",
        "    min_sum = sum(arr[:4])\n",
        "    max_sum = sum(arr[1:])\n",
        "    print(min_sum,max_sum)\n",
        "\n",
        "arr = list(map(int,input().replace(',','').split()))\n",
        "max_sum(arr)"
      ],
      "metadata": {
        "id": "lxZgpvY8-PTB"
      },
      "execution_count": null,
      "outputs": []
    },
    {
      "cell_type": "markdown",
      "source": [
        "Given a time in 12-hour AM/PM format, convert it to military (24-hour) time.\n",
        "\n",
        "Note: - 12:00:00AM on a 12-hour clock is 00:00:00 on a 24-hour clock.\n",
        "- 12:00:00PM on a 12-hour clock is 12:00:00 on a 24-hour clock."
      ],
      "metadata": {
        "id": "YSyaZS4i-uWW"
      }
    },
    {
      "cell_type": "code",
      "source": [
        "def convert_to_military_time(s):\n",
        "    if s[-2:] == \"AM\":\n",
        "        if s[:2] == \"12\":\n",
        "            return \"00\" + s[2:-2]\n",
        "        else:\n",
        "            return s[:-2]\n",
        "    else:\n",
        "        if s[:2] == \"12\":\n",
        "            return s[:-2]\n",
        "        else:\n",
        "            return str(int(s[:2]) + 12) + s[2:-2]\n",
        "\n",
        "time_12_hour = input().strip()\n",
        "print(convert_to_military_time(time_12_hour))\n"
      ],
      "metadata": {
        "id": "N2ETet0Tgvz-"
      },
      "execution_count": null,
      "outputs": []
    }
  ]
}