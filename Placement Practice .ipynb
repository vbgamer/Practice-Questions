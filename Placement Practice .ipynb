{
  "nbformat": 4,
  "nbformat_minor": 0,
  "metadata": {
    "colab": {
      "provenance": [],
      "authorship_tag": "ABX9TyNybeCIhlaHD8uJDEl2xYKR",
      "include_colab_link": true
    },
    "kernelspec": {
      "name": "python3",
      "display_name": "Python 3"
    },
    "language_info": {
      "name": "python"
    }
  },
  "cells": [
    {
      "cell_type": "markdown",
      "metadata": {
        "id": "view-in-github",
        "colab_type": "text"
      },
      "source": [
        "<a href=\"https://colab.research.google.com/github/vbgamer/Practice-Questions/blob/main/Placement%20Practice%20.ipynb\" target=\"_parent\"><img src=\"https://colab.research.google.com/assets/colab-badge.svg\" alt=\"Open In Colab\"/></a>"
      ]
    },
    {
      "cell_type": "markdown",
      "source": [
        "# **DAY 1**"
      ],
      "metadata": {
        "id": "M7ZQyUARgbU_"
      }
    },
    {
      "cell_type": "markdown",
      "source": [
        "Given an array of integers, calculate the ratios of its elements that are positive, negative, and zero. Print the decimal value of each fraction on a new line with  places after the decimal.\n",
        "\n",
        "Print the ratios of positive, negative and zero values in the array. Each value should be printed on a separate line with  digits after the decimal. The function should not return a value."
      ],
      "metadata": {
        "id": "7-SJElu-73qj"
      }
    },
    {
      "cell_type": "code",
      "source": [
        "def plusMinus(arr):\n",
        "    positive = []\n",
        "    negative = []\n",
        "    zeros = []\n",
        "    for number in arr:\n",
        "        if number < 0:\n",
        "            negative.append(number)\n",
        "        elif number > 0:\n",
        "            positive.append(number)\n",
        "        else:\n",
        "            zeros.append(number)\n",
        "    print(\"{:.6f}\".format(len(positive)/n))\n",
        "    print(\"{:.6f}\".format(len(negative)/n))\n",
        "    print(\"{:.6f}\".format(len(zeros)/n))\n",
        "if __name__ == '__main__':\n",
        "    arr = list(map(int, input().rstrip().split(',')))\n",
        "    plusMinus(arr)"
      ],
      "metadata": {
        "id": "ugOx6j7L-rMH"
      },
      "execution_count": null,
      "outputs": []
    },
    {
      "cell_type": "markdown",
      "source": [
        "Given five positive integers, find the minimum and maximum values that can be calculated by summing exactly four of the five integers. Then print the respective minimum and maximum values as a single line of two space-separated long integers."
      ],
      "metadata": {
        "id": "nKIhsccM9v8Q"
      }
    },
    {
      "cell_type": "code",
      "source": [
        "def max_sum(arr):\n",
        "    arr.sort()\n",
        "    min_sum = sum(arr[:4])\n",
        "    max_sum = sum(arr[1:])\n",
        "    print(min_sum,max_sum)\n",
        "\n",
        "arr = list(map(int,input().replace(',','').split()))\n",
        "max_sum(arr)"
      ],
      "metadata": {
        "id": "lxZgpvY8-PTB"
      },
      "execution_count": null,
      "outputs": []
    },
    {
      "cell_type": "markdown",
      "source": [
        "Given a time in 12-hour AM/PM format, convert it to military (24-hour) time.\n",
        "\n",
        "Note: - 12:00:00AM on a 12-hour clock is 00:00:00 on a 24-hour clock.\n",
        "- 12:00:00PM on a 12-hour clock is 12:00:00 on a 24-hour clock."
      ],
      "metadata": {
        "id": "YSyaZS4i-uWW"
      }
    },
    {
      "cell_type": "code",
      "source": [
        "def convert_to_military_time(s):\n",
        "    if s[-2:] == \"AM\":\n",
        "        if s[:2] == \"12\":\n",
        "            return \"00\" + s[2:-2]\n",
        "        else:\n",
        "            return s[:-2]\n",
        "    else:\n",
        "        if s[:2] == \"12\":\n",
        "            return s[:-2]\n",
        "        else:\n",
        "            return str(int(s[:2]) + 12) + s[2:-2]\n",
        "\n",
        "time_12_hour = input().strip()\n",
        "print(convert_to_military_time(time_12_hour))\n"
      ],
      "metadata": {
        "id": "N2ETet0Tgvz-"
      },
      "execution_count": null,
      "outputs": []
    },
    {
      "cell_type": "markdown",
      "source": [
        "# **DAY 2**"
      ],
      "metadata": {
        "id": "nZBj3VPtMITH"
      }
    },
    {
      "cell_type": "markdown",
      "source": [
        "Given an array of integers, where all elements but one occur twice, find the unique element."
      ],
      "metadata": {
        "id": "2YmTkD9fL8xn"
      }
    },
    {
      "cell_type": "code",
      "source": [
        "def find_unique_element(arr):\n",
        "    unique = 0\n",
        "    for num in arr:\n",
        "        unique ^= num\n",
        "    return unique\n",
        "n = int(input())\n",
        "arr = list(map(int, input().split()))\n",
        "\n",
        "print(find_unique_element(arr))\n"
      ],
      "metadata": {
        "id": "Aff1BjU8MAAj"
      },
      "execution_count": null,
      "outputs": []
    },
    {
      "cell_type": "markdown",
      "source": [
        "Given a square matrix, calculate the absolute difference between the sums of its diagonals."
      ],
      "metadata": {
        "id": "m6MOHvkuMB3p"
      }
    },
    {
      "cell_type": "code",
      "source": [
        "def diagonalDifference(matrix):\n",
        "    n = len(matrix)\n",
        "    primary_sum = sum(matrix[i][i] for i in range(n))\n",
        "    secondary_sum = sum(matrix[i][n - 1 - i] for i in range(n))\n",
        "    return abs(primary_sum - secondary_sum)\n",
        "\n",
        "n = int(input())\n",
        "matrix = [list(map(int, input().split())) for _ in range(n)]\n",
        "print(diagonalDifference(matrix))\n"
      ],
      "metadata": {
        "id": "ehRNwfMqMFv7"
      },
      "execution_count": null,
      "outputs": []
    },
    {
      "cell_type": "markdown",
      "source": [
        "Given a list of integers, count and return the number of times each value appears as an array of integers.Another sorting method, the counting sort, does not require comparison. Instead, you create an integer array whose index range covers the entire range of values in your array to sort. Each time a value occurs in the original array, you increment the counter at that index. At the end, run through your counting array, printing the value of each non-zero valued index that number of times."
      ],
      "metadata": {
        "id": "J15su4JSMLyA"
      }
    },
    {
      "cell_type": "code",
      "source": [
        "def count_sort(arr):\n",
        "    count = [0] * 100\n",
        "    for num in arr:\n",
        "        count[num] += 1\n",
        "\n",
        "    return count\n",
        "\n",
        "n = int(input())\n",
        "arr = list(map(int, input().split()))\n",
        "print(*count_sort(arr))"
      ],
      "metadata": {
        "id": "n_nBHvDtPrnV"
      },
      "execution_count": null,
      "outputs": []
    },
    {
      "cell_type": "markdown",
      "source": [
        "DAY 3"
      ],
      "metadata": {
        "id": "wLUOPQkCSYeU"
      }
    },
    {
      "cell_type": "markdown",
      "source": [
        "In this challenge, the task is to debug the existing code to successfully execute all provided test files.\n",
        "\n",
        "\n",
        "\n",
        "```\n",
        "def findZigZagSequence(a, n):\n",
        "    a.sort()\n",
        "    mid = int((n + 1)/2)\n",
        "    a[mid], a[n-1] = a[n-1], a[mid]\n",
        "\n",
        "    st = mid + 1\n",
        "    ed = n - 1\n",
        "    while(st <= ed):\n",
        "        a[st], a[ed] = a[ed], a[st]\n",
        "        st = st + 1\n",
        "        ed = ed + 1\n",
        "\n",
        "    for i in range (n):\n",
        "        if i == n-1:\n",
        "            print(a[i])\n",
        "        else:\n",
        "            print(a[i], end = ' ')\n",
        "    return\n",
        "\n",
        "test_cases = int(input())\n",
        "for cs in range (test_cases):\n",
        "    n = int(input())\n",
        "    a = list(map(int, input().split()))\n",
        "    findZigZagSequence(a, n)\n",
        "    \n",
        "```\n",
        "\n",
        "\n"
      ],
      "metadata": {
        "id": "3XUMZ1BeSbAD"
      }
    },
    {
      "cell_type": "code",
      "source": [
        "def findZigZagSequence(a, n):\n",
        "    a.sort()\n",
        "    mid = int((n + 1)/2) - 1\n",
        "    a[mid], a[n-1] = a[n-1], a[mid]\n",
        "\n",
        "    st = mid + 1\n",
        "    ed = n - 2\n",
        "    while(st <= ed):\n",
        "        a[st], a[ed] = a[ed], a[st]\n",
        "        st = st + 1\n",
        "        ed = ed - 1\n",
        "\n",
        "    for i in range (n):\n",
        "        if i == n-1:\n",
        "            print(a[i])\n",
        "        else:\n",
        "            print(a[i], end = ' ')\n",
        "    return\n",
        "\n",
        "test_cases = int(input())\n",
        "for cs in range (test_cases):\n",
        "    n = int(input())\n",
        "    a = list(map(int, input().split()))\n",
        "    findZigZagSequence(a, n)"
      ],
      "metadata": {
        "id": "MvDYMkoxSztk"
      },
      "execution_count": null,
      "outputs": []
    },
    {
      "cell_type": "markdown",
      "source": [
        "Two players are playing a game of Tower Breakers! Player  always moves first, and both players always play optimally.The rules of the game are as follows:"
      ],
      "metadata": {
        "id": "JlzXhQNUS2QX"
      }
    },
    {
      "cell_type": "code",
      "source": [
        "def towerBreakers(n, m):\n",
        "    if m == 1 or n % 2 == 0:\n",
        "        return 2\n",
        "    else:\n",
        "        return 1\n",
        "\n",
        "t = int(input().strip())\n",
        "for _ in range(t):\n",
        "    n, m = map(int, input().strip().split())\n",
        "    print(towerBreakers(n, m))"
      ],
      "metadata": {
        "id": "JE5YL2ayT7F5"
      },
      "execution_count": null,
      "outputs": []
    }
  ]
}