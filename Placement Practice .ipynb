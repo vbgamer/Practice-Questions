{
  "nbformat": 4,
  "nbformat_minor": 0,
  "metadata": {
    "colab": {
      "provenance": [],
      "authorship_tag": "ABX9TyNZpTaGdySpeQYUy/VrY8Rq",
      "include_colab_link": true
    },
    "kernelspec": {
      "name": "python3",
      "display_name": "Python 3"
    },
    "language_info": {
      "name": "python"
    }
  },
  "cells": [
    {
      "cell_type": "markdown",
      "metadata": {
        "id": "view-in-github",
        "colab_type": "text"
      },
      "source": [
        "<a href=\"https://colab.research.google.com/github/vbgamer/Practice-Questions/blob/main/Placement%20Practice%20.ipynb\" target=\"_parent\"><img src=\"https://colab.research.google.com/assets/colab-badge.svg\" alt=\"Open In Colab\"/></a>"
      ]
    },
    {
      "cell_type": "markdown",
      "source": [
        "# **DAY 1**"
      ],
      "metadata": {
        "id": "M7ZQyUARgbU_"
      }
    },
    {
      "cell_type": "markdown",
      "source": [
        "Given an array of integers, calculate the ratios of its elements that are positive, negative, and zero. Print the decimal value of each fraction on a new line with  places after the decimal.\n",
        "\n",
        "Print the ratios of positive, negative and zero values in the array. Each value should be printed on a separate line with  digits after the decimal. The function should not return a value."
      ],
      "metadata": {
        "id": "7-SJElu-73qj"
      }
    },
    {
      "cell_type": "code",
      "source": [
        "def plusMinus(arr):\n",
        "    positive = []\n",
        "    negative = []\n",
        "    zeros = []\n",
        "    for number in arr:\n",
        "        if number < 0:\n",
        "            negative.append(number)\n",
        "        elif number > 0:\n",
        "            positive.append(number)\n",
        "        else:\n",
        "            zeros.append(number)\n",
        "    print(\"{:.6f}\".format(len(positive)/n))\n",
        "    print(\"{:.6f}\".format(len(negative)/n))\n",
        "    print(\"{:.6f}\".format(len(zeros)/n))\n",
        "if __name__ == '__main__':\n",
        "    arr = list(map(int, input().rstrip().split(',')))\n",
        "    plusMinus(arr)"
      ],
      "metadata": {
        "id": "ugOx6j7L-rMH"
      },
      "execution_count": null,
      "outputs": []
    },
    {
      "cell_type": "markdown",
      "source": [
        "Given five positive integers, find the minimum and maximum values that can be calculated by summing exactly four of the five integers. Then print the respective minimum and maximum values as a single line of two space-separated long integers."
      ],
      "metadata": {
        "id": "nKIhsccM9v8Q"
      }
    },
    {
      "cell_type": "code",
      "source": [
        "def max_sum(arr):\n",
        "    arr.sort()\n",
        "    min_sum = sum(arr[:4])\n",
        "    max_sum = sum(arr[1:])\n",
        "    print(min_sum,max_sum)\n",
        "\n",
        "arr = list(map(int,input().replace(',','').split()))\n",
        "max_sum(arr)"
      ],
      "metadata": {
        "id": "lxZgpvY8-PTB"
      },
      "execution_count": null,
      "outputs": []
    },
    {
      "cell_type": "markdown",
      "source": [
        "Given a time in 12-hour AM/PM format, convert it to military (24-hour) time.\n",
        "\n",
        "Note: - 12:00:00AM on a 12-hour clock is 00:00:00 on a 24-hour clock.\n",
        "- 12:00:00PM on a 12-hour clock is 12:00:00 on a 24-hour clock."
      ],
      "metadata": {
        "id": "YSyaZS4i-uWW"
      }
    },
    {
      "cell_type": "code",
      "source": [
        "def convert_to_military_time(s):\n",
        "    if s[-2:] == \"AM\":\n",
        "        if s[:2] == \"12\":\n",
        "            return \"00\" + s[2:-2]\n",
        "        else:\n",
        "            return s[:-2]\n",
        "    else:\n",
        "        if s[:2] == \"12\":\n",
        "            return s[:-2]\n",
        "        else:\n",
        "            return str(int(s[:2]) + 12) + s[2:-2]\n",
        "\n",
        "time_12_hour = input().strip()\n",
        "print(convert_to_military_time(time_12_hour))\n"
      ],
      "metadata": {
        "id": "N2ETet0Tgvz-"
      },
      "execution_count": null,
      "outputs": []
    },
    {
      "cell_type": "markdown",
      "source": [
        "# **DAY 2**"
      ],
      "metadata": {
        "id": "nZBj3VPtMITH"
      }
    },
    {
      "cell_type": "markdown",
      "source": [
        "Given an array of integers, where all elements but one occur twice, find the unique element."
      ],
      "metadata": {
        "id": "2YmTkD9fL8xn"
      }
    },
    {
      "cell_type": "code",
      "source": [
        "def find_unique_element(arr):\n",
        "    unique = 0\n",
        "    for num in arr:\n",
        "        unique ^= num\n",
        "    return unique\n",
        "n = int(input())\n",
        "arr = list(map(int, input().split()))\n",
        "\n",
        "print(find_unique_element(arr))\n"
      ],
      "metadata": {
        "id": "Aff1BjU8MAAj"
      },
      "execution_count": null,
      "outputs": []
    },
    {
      "cell_type": "markdown",
      "source": [
        "Given a square matrix, calculate the absolute difference between the sums of its diagonals."
      ],
      "metadata": {
        "id": "m6MOHvkuMB3p"
      }
    },
    {
      "cell_type": "code",
      "source": [
        "def diagonalDifference(matrix):\n",
        "    n = len(matrix)\n",
        "    primary_sum = sum(matrix[i][i] for i in range(n))\n",
        "    secondary_sum = sum(matrix[i][n - 1 - i] for i in range(n))\n",
        "    return abs(primary_sum - secondary_sum)\n",
        "\n",
        "n = int(input())\n",
        "matrix = [list(map(int, input().split())) for _ in range(n)]\n",
        "print(diagonalDifference(matrix))\n"
      ],
      "metadata": {
        "id": "ehRNwfMqMFv7"
      },
      "execution_count": null,
      "outputs": []
    },
    {
      "cell_type": "markdown",
      "source": [
        "Given a list of integers, count and return the number of times each value appears as an array of integers.Another sorting method, the counting sort, does not require comparison. Instead, you create an integer array whose index range covers the entire range of values in your array to sort. Each time a value occurs in the original array, you increment the counter at that index. At the end, run through your counting array, printing the value of each non-zero valued index that number of times."
      ],
      "metadata": {
        "id": "J15su4JSMLyA"
      }
    },
    {
      "cell_type": "code",
      "source": [
        "def count_sort(arr):\n",
        "    count = [0] * 100\n",
        "    for num in arr:\n",
        "        count[num] += 1\n",
        "\n",
        "    return count\n",
        "\n",
        "n = int(input())\n",
        "arr = list(map(int, input().split()))\n",
        "print(*count_sort(arr))"
      ],
      "metadata": {
        "id": "n_nBHvDtPrnV"
      },
      "execution_count": null,
      "outputs": []
    },
    {
      "cell_type": "markdown",
      "source": [
        "# **DAY 3**"
      ],
      "metadata": {
        "id": "wLUOPQkCSYeU"
      }
    },
    {
      "cell_type": "markdown",
      "source": [
        "In this challenge, the task is to debug the existing code to successfully execute all provided test files.\n",
        "\n",
        "\n",
        "\n",
        "```\n",
        "def findZigZagSequence(a, n):\n",
        "    a.sort()\n",
        "    mid = int((n + 1)/2)\n",
        "    a[mid], a[n-1] = a[n-1], a[mid]\n",
        "\n",
        "    st = mid + 1\n",
        "    ed = n - 1\n",
        "    while(st <= ed):\n",
        "        a[st], a[ed] = a[ed], a[st]\n",
        "        st = st + 1\n",
        "        ed = ed + 1\n",
        "\n",
        "    for i in range (n):\n",
        "        if i == n-1:\n",
        "            print(a[i])\n",
        "        else:\n",
        "            print(a[i], end = ' ')\n",
        "    return\n",
        "\n",
        "test_cases = int(input())\n",
        "for cs in range (test_cases):\n",
        "    n = int(input())\n",
        "    a = list(map(int, input().split()))\n",
        "    findZigZagSequence(a, n)\n",
        "    \n",
        "```\n",
        "\n",
        "\n"
      ],
      "metadata": {
        "id": "3XUMZ1BeSbAD"
      }
    },
    {
      "cell_type": "code",
      "source": [
        "def findZigZagSequence(a, n):\n",
        "    a.sort()\n",
        "    mid = int((n + 1)/2) - 1\n",
        "    a[mid], a[n-1] = a[n-1], a[mid]\n",
        "\n",
        "    st = mid + 1\n",
        "    ed = n - 2\n",
        "    while(st <= ed):\n",
        "        a[st], a[ed] = a[ed], a[st]\n",
        "        st = st + 1\n",
        "        ed = ed - 1\n",
        "\n",
        "    for i in range (n):\n",
        "        if i == n-1:\n",
        "            print(a[i])\n",
        "        else:\n",
        "            print(a[i], end = ' ')\n",
        "    return\n",
        "\n",
        "test_cases = int(input())\n",
        "for cs in range (test_cases):\n",
        "    n = int(input())\n",
        "    a = list(map(int, input().split()))\n",
        "    findZigZagSequence(a, n)"
      ],
      "metadata": {
        "id": "MvDYMkoxSztk"
      },
      "execution_count": null,
      "outputs": []
    },
    {
      "cell_type": "markdown",
      "source": [
        "Two players are playing a game of Tower Breakers! Player  always moves first, and both players always play optimally.The rules of the game are as follows:"
      ],
      "metadata": {
        "id": "JlzXhQNUS2QX"
      }
    },
    {
      "cell_type": "code",
      "source": [
        "def towerBreakers(n, m):\n",
        "    if m == 1 or n % 2 == 0:\n",
        "        return 2\n",
        "    else:\n",
        "        return 1\n",
        "\n",
        "t = int(input().strip())\n",
        "for _ in range(t):\n",
        "    n, m = map(int, input().strip().split())\n",
        "    print(towerBreakers(n, m))"
      ],
      "metadata": {
        "id": "JE5YL2ayT7F5"
      },
      "execution_count": null,
      "outputs": []
    },
    {
      "cell_type": "markdown",
      "source": [
        "# **Day 4**"
      ],
      "metadata": {
        "id": "C5dsG6xYTFnA"
      }
    },
    {
      "cell_type": "markdown",
      "source": [
        "Write a code find Factorial of any number"
      ],
      "metadata": {
        "id": "5iz0YRFgTJ8j"
      }
    },
    {
      "cell_type": "code",
      "source": [
        "def factorial(n):\n",
        "  result =1\n",
        "  for i in range(2, N+1):\n",
        "    result *= i\n",
        "  return result\n",
        "N = int(input(\"Enter a number: \"))\n",
        "print(f\"Factorial of {N} is {factorial(N)}\")"
      ],
      "metadata": {
        "colab": {
          "base_uri": "https://localhost:8080/"
        },
        "id": "f7Cx01TwUR48",
        "outputId": "21b934cd-d361-41a8-caaa-03bdf24b4fb8"
      },
      "execution_count": null,
      "outputs": [
        {
          "output_type": "stream",
          "name": "stdout",
          "text": [
            "Enter a number: 5\n",
            "Factorial of 5 is 120\n"
          ]
        }
      ]
    },
    {
      "cell_type": "markdown",
      "source": [
        "Write a program to find the area of circle when diameter is given using command line arguments. The inpur diameter is an integer and the output area sholud be a floating points vairable with 2 point precision"
      ],
      "metadata": {
        "id": "NCpSYRDlbtY8"
      }
    },
    {
      "cell_type": "code",
      "source": [
        "import sys\n",
        "import math\n",
        "\n",
        "if len(sys.argv) != 2:\n",
        "    print(\"Usage: python program.py <diameter>\")\n",
        "    sys.exit(1)\n",
        "try:\n",
        "    diameter = int(sys.argv[1])\n",
        "    radius = diameter / 2\n",
        "    area = math.pi * (radius ** 2)\n",
        "    print(f\"Area of circle: {area:.2f}\")\n",
        "except ValueError:\n",
        "    print(\"Error: Please enter a valid integer for diameter.\")\n"
      ],
      "metadata": {
        "id": "EX9U8cYUcWoX"
      },
      "execution_count": null,
      "outputs": []
    },
    {
      "cell_type": "markdown",
      "source": [
        "Code to check if leap year or not"
      ],
      "metadata": {
        "id": "tdptT-0jeP6d"
      }
    },
    {
      "cell_type": "code",
      "source": [
        "def leap_year(year):\n",
        "  if (year % 4 == 0 and year % 100 != 0) or (year % 400 ==0):\n",
        "    return True\n",
        "  return False\n",
        "\n",
        "input_year = int(input(\"Enter a year: \"))\n",
        "if leap_year(input_year):\n",
        "  print(f\"{input_year} is a leap year.\")\n",
        "else:\n",
        "  print(f\"{input_year} is not a leap year.\")"
      ],
      "metadata": {
        "colab": {
          "base_uri": "https://localhost:8080/"
        },
        "id": "OtGN_Uxzeg8x",
        "outputId": "b161f7df-6202-46c5-d7d6-88de21a3c38a"
      },
      "execution_count": null,
      "outputs": [
        {
          "output_type": "stream",
          "name": "stdout",
          "text": [
            "Enter a year: 2024\n",
            "2024 is a leap year.\n"
          ]
        }
      ]
    },
    {
      "cell_type": "markdown",
      "source": [
        "# **DAY 6**"
      ],
      "metadata": {
        "id": "o514GhN2t-0D"
      }
    },
    {
      "cell_type": "markdown",
      "source": [
        "The super digit of a number is found recursively by summing its digits until a single-digit number remains.\n",
        "\n"
      ],
      "metadata": {
        "id": "3dW01mGL9Pye"
      }
    },
    {
      "cell_type": "code",
      "source": [
        "def super_digit(n):\n",
        "    if len(n) == 1:\n",
        "        return int(n)\n",
        "    digit_sum = sum(int(digit) for digit in n)\n",
        "    return super_digit(str(digit_sum))\n",
        "\n",
        "def hackerrank_super_digit(n, k):\n",
        "    initial_sum = sum(int(digit) for digit in n) * k\n",
        "    return super_digit(str(initial_sum))\n",
        "\n",
        "n, k = input().split()\n",
        "k = int(k)\n",
        "print(hackerrank_super_digit(n, k))\n"
      ],
      "metadata": {
        "id": "h13Isj_quB9S"
      },
      "execution_count": null,
      "outputs": []
    },
    {
      "cell_type": "markdown",
      "source": [
        "Given a square grid of characters in the range ascii[a-z], rearrange elements of each row alphabetically, ascending. Determine if the columns are also in ascending alphabetical order, top to bottom. Return YES if they are or NO if they are not."
      ],
      "metadata": {
        "id": "ZAME2wHI9SQR"
      }
    },
    {
      "cell_type": "code",
      "source": [
        "def gridChallenge(grid):\n",
        "    sorted_grid = [sorted(row) for row in grid]\n",
        "    return \"YES\" if all(sorted_grid[i][j] <= sorted_grid[i+1][j] for i in range(len(grid)-1) for j in range(len(grid[0]))) else \"NO\"\n",
        "\n",
        "for _ in range(int(input())):\n",
        "    n = int(input())\n",
        "    grid = [input().strip() for _ in range(n)]\n",
        "    print(gridChallenge(grid))"
      ],
      "metadata": {
        "id": "SQ8lnm37_2Db"
      },
      "execution_count": null,
      "outputs": []
    },
    {
      "cell_type": "markdown",
      "source": [
        "It is New Year's Day and people are in line for the Wonderland rollercoaster ride. Each person wears a sticker indicating their initial position in the queue from  to . Any person can bribe the person directly in front of them to swap positions, but they still wear their original sticker. One person can bribe at most two others.\n",
        "\n",
        "Determine the minimum number of bribes that took place to get to a given queue order. Print the number of bribes, or, if anyone has bribed more than two people, print Too chaotic."
      ],
      "metadata": {
        "id": "D1y17m_QFCW2"
      }
    },
    {
      "cell_type": "code",
      "source": [
        "def minimumBribes(q):\n",
        "    bribes = 0\n",
        "\n",
        "    for i in range(len(q)):\n",
        "        if q[i] - (i + 1) > 2:\n",
        "            print(\"Too chaotic\")\n",
        "            return\n",
        "        for j in range(max(0, q[i] - 2), i):\n",
        "            if q[j] > q[i]:\n",
        "                bribes += 1\n",
        "\n",
        "    print(bribes)\n",
        "\n",
        "for _ in range(int(input())):\n",
        "    input()\n",
        "    minimumBribes(list(map(int, input().split())))\n"
      ],
      "metadata": {
        "id": "Ps-TFe_cHO97"
      },
      "execution_count": null,
      "outputs": []
    }
  ]
}